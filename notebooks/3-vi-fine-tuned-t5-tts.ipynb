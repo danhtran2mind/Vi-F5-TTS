{
 "cells": [
  {
   "cell_type": "code",
   "execution_count": 1,
   "metadata": {
    "_cell_guid": "b1076dfc-b9ad-4769-8c92-a6c4dae69d19",
    "_uuid": "8f2839f25d086af736a60e9eeb907d3b93b6e0e5",
    "execution": {
     "iopub.execute_input": "2025-06-13T10:20:04.912431Z",
     "iopub.status.busy": "2025-06-13T10:20:04.912152Z",
     "iopub.status.idle": "2025-06-13T10:20:10.679130Z",
     "shell.execute_reply": "2025-06-13T10:20:10.678410Z",
     "shell.execute_reply.started": "2025-06-13T10:20:04.912407Z"
    },
    "trusted": true
   },
   "outputs": [
    {
     "data": {
      "text/plain": [
       "0"
      ]
     },
     "execution_count": 1,
     "metadata": {},
     "output_type": "execute_result"
    }
   ],
   "source": [
    "import os\n",
    "os.system(\"pip install -q wget\")"
   ]
  },
  {
   "cell_type": "code",
   "execution_count": null,
   "metadata": {
    "execution": {
     "iopub.execute_input": "2025-06-13T10:20:10.680605Z",
     "iopub.status.busy": "2025-06-13T10:20:10.680405Z",
     "iopub.status.idle": "2025-06-13T10:20:16.856873Z",
     "shell.execute_reply": "2025-06-13T10:20:16.856251Z",
     "shell.execute_reply.started": "2025-06-13T10:20:10.680587Z"
    },
    "trusted": true
   },
   "outputs": [],
   "source": [
    "import wget\n",
    "import tarfile\n",
    "import torchaudio\n",
    "import pandas as pd\n",
    "from huggingface_hub import snapshot_download, login\n",
    "login(\"<your_huggingface_token>\")"
   ]
  },
  {
   "cell_type": "code",
   "execution_count": 3,
   "metadata": {
    "execution": {
     "iopub.execute_input": "2025-06-13T10:20:16.858000Z",
     "iopub.status.busy": "2025-06-13T10:20:16.857573Z",
     "iopub.status.idle": "2025-06-13T10:20:16.862223Z",
     "shell.execute_reply": "2025-06-13T10:20:16.861466Z",
     "shell.execute_reply.started": "2025-06-13T10:20:16.857972Z"
    },
    "trusted": true
   },
   "outputs": [],
   "source": [
    "os.chdir(\"/content\")"
   ]
  },
  {
   "cell_type": "code",
   "execution_count": null,
   "metadata": {
    "execution": {
     "iopub.execute_input": "2025-06-11T23:40:31.576197Z",
     "iopub.status.busy": "2025-06-11T23:40:31.575976Z",
     "iopub.status.idle": "2025-06-11T23:42:39.101348Z",
     "shell.execute_reply": "2025-06-11T23:42:39.100320Z",
     "shell.execute_reply.started": "2025-06-11T23:40:31.576175Z"
    },
    "trusted": true
   },
   "outputs": [],
   "source": [
    "from huggingface_hub import HfApi\n",
    "import os\n",
    "api = HfApi()\n",
    "repo_id = \"heboya8/t5-tts-temp-model\"\n",
    "save_path = \"/content/\"\n",
    "os.makedirs(save_path, exist_ok=True)\n",
    "\n",
    "# Download the dataset\n",
    "snapshot_download(repo_id=repo_id, repo_type=\"model\", local_dir=save_path)"
   ]
  },
  {
   "cell_type": "code",
   "execution_count": null,
   "metadata": {
    "execution": {
     "iopub.execute_input": "2025-06-06T08:15:13.443708Z",
     "iopub.status.busy": "2025-06-06T08:15:13.443085Z",
     "iopub.status.idle": "2025-06-06T08:15:14.575094Z",
     "shell.execute_reply": "2025-06-06T08:15:14.574083Z",
     "shell.execute_reply.started": "2025-06-06T08:15:13.443681Z"
    },
    "trusted": true
   },
   "outputs": [],
   "source": [
    "!rm -rf 45\n"
   ]
  },
  {
   "cell_type": "code",
   "execution_count": null,
   "metadata": {
    "execution": {
     "iopub.execute_input": "2025-06-12T00:33:45.983632Z",
     "iopub.status.busy": "2025-06-12T00:33:45.983423Z",
     "iopub.status.idle": "2025-06-12T00:33:46.133537Z",
     "shell.execute_reply": "2025-06-12T00:33:46.132461Z",
     "shell.execute_reply.started": "2025-06-12T00:33:45.983614Z"
    },
    "trusted": true
   },
   "outputs": [],
   "source": [
    "!pwd"
   ]
  },
  {
   "cell_type": "code",
   "execution_count": null,
   "metadata": {
    "execution": {
     "iopub.execute_input": "2025-06-12T00:11:52.967606Z",
     "iopub.status.busy": "2025-06-12T00:11:52.967417Z",
     "iopub.status.idle": "2025-06-12T00:11:53.104656Z",
     "shell.execute_reply": "2025-06-12T00:11:53.103880Z",
     "shell.execute_reply.started": "2025-06-12T00:11:52.967585Z"
    },
    "trusted": true
   },
   "outputs": [],
   "source": [
    "!ls -a /content/F5-TTS"
   ]
  },
  {
   "cell_type": "code",
   "execution_count": null,
   "metadata": {
    "execution": {
     "iopub.execute_input": "2025-06-13T10:20:16.864545Z",
     "iopub.status.busy": "2025-06-13T10:20:16.863833Z"
    },
    "trusted": true
   },
   "outputs": [
    {
     "name": "stderr",
     "output_type": "stream",
     "text": [
      "Cloning into 'F5-TTS'...\n"
     ]
    }
   ],
   "source": [
    "# Step 1: Set Up the Environment\n",
    "os.system(\"pip install -e . >/dev/null 2>&1\")\n",
    "os.system(\"pip install torch==2.4.0+cu124 torchaudio==2.4.0+cu124 torchvision==0.19.0+cu124 --extra-index-url https://download.pytorch.org/whl/cu124 >/dev/null 2>&1\")\n",
    "os.system(\"pip install accelerate==0.33.0 tensorboard >/dev/null 2>&1\")\n",
    "if not os.path.exists(\"F5-TTS\"):\n",
    "    os.system(\"git clone https://github.com/SWivid/F5-TTS.git\")\n",
    "os.chdir(\"F5-TTS\")\n",
    "os.system(\"pip install -e . >/dev/null 2>&1\")\n"
   ]
  },
  {
   "cell_type": "code",
   "execution_count": null,
   "metadata": {
    "trusted": true
   },
   "outputs": [],
   "source": [
    "os.chdir(\"/content/F5-TTS\")\n",
    "# os.chdir(\"F5-TTS-Vietnamese\")"
   ]
  },
  {
   "cell_type": "code",
   "execution_count": null,
   "metadata": {
    "execution": {
     "iopub.execute_input": "2025-05-26T08:39:40.230564Z",
     "iopub.status.busy": "2025-05-26T08:39:40.230243Z",
     "iopub.status.idle": "2025-05-26T08:39:40.360265Z",
     "shell.execute_reply": "2025-05-26T08:39:40.359565Z",
     "shell.execute_reply.started": "2025-05-26T08:39:40.230535Z"
    },
    "trusted": true
   },
   "outputs": [],
   "source": [
    "!pwd"
   ]
  },
  {
   "cell_type": "code",
   "execution_count": null,
   "metadata": {
    "trusted": true
   },
   "outputs": [],
   "source": [
    "!mkdir ./ckpts/vin100h-preprocessed-v2\n",
    "# !cp -r /kaggle/input/vi-fine-tuned-t5-tts/22/model_last.pt \\\n",
    "# ./ckpts/vin100h-preprocessed-v2/"
   ]
  },
  {
   "cell_type": "code",
   "execution_count": null,
   "metadata": {
    "trusted": true
   },
   "outputs": [],
   "source": [
    "!cp -r /kaggle/input/vi-fine-tuned-t5-tts/67/model_last.pt ./ckpts/vin100h-preprocessed-v2/"
   ]
  },
  {
   "cell_type": "code",
   "execution_count": 9,
   "metadata": {
    "execution": {
     "iopub.execute_input": "2025-06-13T10:26:13.271036Z",
     "iopub.status.busy": "2025-06-13T10:26:13.270379Z",
     "iopub.status.idle": "2025-06-13T10:26:13.406619Z",
     "shell.execute_reply": "2025-06-13T10:26:13.405565Z",
     "shell.execute_reply.started": "2025-06-13T10:26:13.271003Z"
    },
    "trusted": true
   },
   "outputs": [
    {
     "name": "stdout",
     "output_type": "stream",
     "text": [
      ".  ..  model_last.pt\n"
     ]
    }
   ],
   "source": [
    "!ls -a ./ckpts/vin100h-preprocessed-v2"
   ]
  },
  {
   "cell_type": "code",
   "execution_count": null,
   "metadata": {
    "execution": {
     "iopub.execute_input": "2025-05-11T13:49:40.305365Z",
     "iopub.status.busy": "2025-05-11T13:49:40.304733Z",
     "iopub.status.idle": "2025-05-11T13:49:50.798803Z",
     "shell.execute_reply": "2025-05-11T13:49:50.797744Z",
     "shell.execute_reply.started": "2025-05-11T13:49:40.305335Z"
    },
    "trusted": true
   },
   "outputs": [],
   "source": []
  },
  {
   "cell_type": "code",
   "execution_count": null,
   "metadata": {
    "execution": {
     "iopub.execute_input": "2025-05-10T15:59:08.329794Z",
     "iopub.status.busy": "2025-05-10T15:59:08.329442Z",
     "iopub.status.idle": "2025-05-10T15:59:09.362207Z",
     "shell.execute_reply": "2025-05-10T15:59:09.361253Z",
     "shell.execute_reply.started": "2025-05-10T15:59:08.329757Z"
    },
    "trusted": true
   },
   "outputs": [],
   "source": [
    "import json\n",
    "import os\n",
    "from pathlib import Path\n",
    "import shutil\n",
    "import torchaudio\n",
    "from datasets import load_dataset\n",
    "from datasets.arrow_writer import ArrowWriter\n",
    "from tqdm import tqdm\n",
    "import soundfile as sf\n",
    "import csv\n",
    "\n",
    "def save_dataset_to_local_disk(output_dir=\"./data/vin100h-preprocessed-v2\",\n",
    "                               base_model=\"htdung167/vin100h-preprocessed-v2\",\n",
    "                               audio_header='audio', text_header='transcription'):\n",
    "  \n",
    "    wavs_dir = os.path.join(output_dir, \"wavs\")\n",
    "    metadata_path = os.path.join(output_dir, \"metadata.csv\")\n",
    "    os.makedirs(wavs_dir, exist_ok=True)\n",
    "\n",
    "    ds = load_dataset(base_model)['train']\n",
    "    metadata = []\n",
    "\n",
    "    for idx, sample in tqdm(enumerate(ds), total=len(ds),\n",
    "                            desc=\"Saving samples to directory\"):\n",
    "        audio_array = sample[audio_header]['array']\n",
    "        sampling_rate = sample[audio_header]['sampling_rate']\n",
    "        filename = f\"audio_{idx:06d}.wav\"\n",
    "        sf.write(os.path.join(wavs_dir, filename), audio_array, sampling_rate)\n",
    "        # metadata.append([f\"wavs/{filename}\", sample['preprocessed_sentence_v2']])\n",
    "        metadata.append([f\"wavs/{filename}\", sample[text_header]])\n",
    "        # metadata.append([f\"{filename}\", sample['transcription']])\n",
    "        \n",
    "    with open(metadata_path, 'w', newline='', encoding='utf-8') as f:\n",
    "        csv.writer(f, delimiter='|').writerows(metadata)\n",
    "\n",
    "    print(f\"Dataset saved to {output_dir}\")\n"
   ]
  },
  {
   "cell_type": "code",
   "execution_count": null,
   "metadata": {
    "execution": {
     "iopub.execute_input": "2025-05-10T15:59:10.399030Z",
     "iopub.status.busy": "2025-05-10T15:59:10.397916Z",
     "iopub.status.idle": "2025-05-10T16:10:46.269067Z",
     "shell.execute_reply": "2025-05-10T16:10:46.267298Z",
     "shell.execute_reply.started": "2025-05-10T15:59:10.398995Z"
    },
    "trusted": true
   },
   "outputs": [],
   "source": [
    "output_dir = \"./data/vin100h-preprocessed-v2\"\n",
    "tokenizer_type = \"pinyin\"\n",
    "\n",
    "save_dataset_to_local_disk(output_dir=output_dir,\n",
    "                           base_model=\"htdung167/vin100h-preprocessed-v2\",\n",
    "                           text_header=\"preprocessed_sentence_v2\"\n",
    "                          )"
   ]
  },
  {
   "cell_type": "code",
   "execution_count": null,
   "metadata": {
    "execution": {
     "iopub.execute_input": "2025-05-10T16:10:46.273403Z",
     "iopub.status.busy": "2025-05-10T16:10:46.272176Z",
     "iopub.status.idle": "2025-05-10T17:15:19.405258Z",
     "shell.execute_reply": "2025-05-10T17:15:19.402002Z",
     "shell.execute_reply.started": "2025-05-10T16:10:46.273366Z"
    },
    "trusted": true
   },
   "outputs": [],
   "source": [
    "!python ./src/f5_tts/train/datasets/prepare_csv_wavs.py \\\n",
    "    \"./data/vin100h-preprocessed-v2\" \\\n",
    "    \"./data/vin100h-preprocessed-v2_pinyin\" \\\n",
    "    --workers 4 # Sets the number of parallel processes for preprocessing."
   ]
  },
  {
   "cell_type": "code",
   "execution_count": 10,
   "metadata": {
    "execution": {
     "iopub.execute_input": "2025-06-13T10:26:18.190998Z",
     "iopub.status.busy": "2025-06-13T10:26:18.190662Z",
     "iopub.status.idle": "2025-06-13T10:26:18.197686Z",
     "shell.execute_reply": "2025-06-13T10:26:18.197059Z",
     "shell.execute_reply.started": "2025-06-13T10:26:18.190974Z"
    },
    "trusted": true
   },
   "outputs": [
    {
     "name": "stdout",
     "output_type": "stream",
     "text": [
      "Writing ./src/f5_tts/configs/vi-fine-tuned-t5-tts.yaml\n"
     ]
    }
   ],
   "source": [
    "%%writefile ./src/f5_tts/configs/vi-fine-tuned-t5-tts.yaml\n",
    "hydra:\n",
    "  run:\n",
    "    dir: ckpts/${model.name}_${model.mel_spec.mel_spec_type}_${model.tokenizer}_${datasets.name}/${now:%Y-%m-%d}/${now:%H-%M-%S}\n",
    "\n",
    "datasets:\n",
    "  name: vin100h-preprocessed-v2  # dataset name\n",
    "  batch_size_per_gpu: 3200  # 1 GPUs, 1 * 3200 = 3200\n",
    "  batch_size_type: frame  # frame | sample\n",
    "  max_samples: 64  # max sequences per batch if use frame-wise batch_size. we set 32 for small models, 64 for base models\n",
    "  num_workers: 4\n",
    "\n",
    "optim:\n",
    "  epochs: 10\n",
    "  learning_rate: 1e-5\n",
    "  num_warmup_updates: 2761  # warmup updates\n",
    "  grad_accumulation_steps: 2  # note: updates = steps / grad_accumulation_steps\n",
    "  max_grad_norm: 1.0  # gradient clipping\n",
    "  bnb_optimizer: False  # use bnb 8bit AdamW optimizer or not\n",
    "\n",
    "model:\n",
    "  name: vi_fine_tuned_t5_tts  # model name\n",
    "  tokenizer: pinyin  # tokenizer type\n",
    "  tokenizer_path: null  # if 'custom' tokenizer, define the path want to use (should be vocab.txt)\n",
    "  backbone: DiT\n",
    "  arch:\n",
    "    dim: 1024\n",
    "    depth: 22\n",
    "    heads: 16\n",
    "    ff_mult: 2\n",
    "    text_dim: 512\n",
    "    text_mask_padding: False\n",
    "    conv_layers: 4\n",
    "    pe_attn_head: 1\n",
    "    checkpoint_activations: False  # recompute activations and save memory for extra compute\n",
    "  mel_spec:\n",
    "    target_sample_rate: 24000\n",
    "    n_mel_channels: 100\n",
    "    hop_length: 256\n",
    "    win_length: 1024\n",
    "    n_fft: 1024\n",
    "    mel_spec_type: vocos  # vocos | bigvgan\n",
    "  vocoder:\n",
    "    is_local: False  # use local offline ckpt or not\n",
    "    local_path: null  # local vocoder path\n",
    "\n",
    "ckpts:\n",
    "  logger: null  # wandb | tensorboard | null\n",
    "  log_samples: True  # infer random sample per save checkpoint. wip, normal to fail with extra long samples\n",
    "  save_per_updates: 4000  # save checkpoint per updates\n",
    "  keep_last_n_checkpoints: 1  # -1 to keep all, 0 to not save intermediate, > 0 to keep last N checkpoints\n",
    "  last_per_updates: 4000  # save last checkpoint per updates\n",
    "  save_dir: ckpts/${model.name}_${model.mel_spec.mel_spec_type}_${model.tokenizer}_${datasets.name}"
   ]
  },
  {
   "cell_type": "code",
   "execution_count": 11,
   "metadata": {
    "execution": {
     "iopub.execute_input": "2025-06-13T10:26:20.826223Z",
     "iopub.status.busy": "2025-06-13T10:26:20.825492Z",
     "iopub.status.idle": "2025-06-13T10:26:34.766936Z",
     "shell.execute_reply": "2025-06-13T10:26:34.766089Z",
     "shell.execute_reply.started": "2025-06-13T10:26:20.826201Z"
    },
    "trusted": true
   },
   "outputs": [
    {
     "name": "stdout",
     "output_type": "stream",
     "text": [
      "accelerate configuration saved at /root/.cache/huggingface/accelerate/default_config.yaml\n"
     ]
    }
   ],
   "source": [
    "!accelerate config default"
   ]
  },
  {
   "cell_type": "code",
   "execution_count": 13,
   "metadata": {
    "execution": {
     "iopub.execute_input": "2025-06-13T02:56:29.790731Z",
     "iopub.status.busy": "2025-06-13T02:56:29.790473Z",
     "iopub.status.idle": "2025-06-13T02:56:29.925932Z",
     "shell.execute_reply": "2025-06-13T02:56:29.924747Z",
     "shell.execute_reply.started": "2025-06-13T02:56:29.790710Z"
    },
    "trusted": true
   },
   "outputs": [
    {
     "name": "stdout",
     "output_type": "stream",
     "text": [
      "go\n"
     ]
    }
   ],
   "source": [
    "!echo go"
   ]
  },
  {
   "cell_type": "code",
   "execution_count": 14,
   "metadata": {
    "execution": {
     "iopub.execute_input": "2025-06-13T02:56:29.927624Z",
     "iopub.status.busy": "2025-06-13T02:56:29.927275Z",
     "iopub.status.idle": "2025-06-13T02:56:30.847599Z",
     "shell.execute_reply": "2025-06-13T02:56:30.846603Z",
     "shell.execute_reply.started": "2025-06-13T02:56:29.927588Z"
    },
    "trusted": true
   },
   "outputs": [
    {
     "name": "stdout",
     "output_type": "stream",
     "text": [
      "/content/F5-TTS\n"
     ]
    }
   ],
   "source": [
    "!pwd"
   ]
  },
  {
   "cell_type": "code",
   "execution_count": 14,
   "metadata": {
    "execution": {
     "iopub.status.idle": "2025-06-13T17:27:16.747386Z",
     "shell.execute_reply": "2025-06-13T17:27:16.744608Z",
     "shell.execute_reply.started": "2025-06-13T10:29:35.611744Z"
    },
    "trusted": true
   },
   "outputs": [
    {
     "name": "stdout",
     "output_type": "stream",
     "text": [
      "\n",
      "Epoch 69/69:  97%|▉| 6010/6182 [3:21:35<05:35,  1.95s/update, loss=0.613, update\u001b[A\n",
      "Epoch 69/69:  97%|▉| 6010/6182 [3:21:35<05:35,  1.95s/update, loss=0.629, update\u001b[A\n",
      "Epoch 69/69:  97%|▉| 6011/6182 [3:21:37<05:17,  1.86s/update, loss=0.629, update\u001b[A\n",
      "Epoch 69/69:  97%|▉| 6011/6182 [3:21:37<05:17,  1.86s/update, loss=0.688, update\u001b[A\n",
      "Epoch 69/69:  97%|▉| 6012/6182 [3:21:39<05:23,  1.90s/update, loss=0.688, update\u001b[A\n",
      "Epoch 69/69:  97%|▉| 6012/6182 [3:21:39<05:23,  1.90s/update, loss=0.433, update\u001b[A\n",
      "Epoch 69/69:  97%|▉| 6013/6182 [3:21:41<05:33,  1.97s/update, loss=0.433, update\u001b[A\n",
      "Epoch 69/69:  97%|▉| 6013/6182 [3:21:41<05:33,  1.97s/update, loss=0.586, update\u001b[A\n",
      "Epoch 69/69:  97%|▉| 6014/6182 [3:21:43<05:19,  1.90s/update, loss=0.586, update\u001b[A\n",
      "Epoch 69/69:  97%|▉| 6014/6182 [3:21:43<05:19,  1.90s/update, loss=0.69, update=\u001b[A\n",
      "Epoch 69/69:  97%|▉| 6015/6182 [3:21:45<05:18,  1.90s/update, loss=0.69, update=\u001b[A\n",
      "Epoch 69/69:  97%|▉| 6015/6182 [3:21:45<05:18,  1.90s/update, loss=0.744, update\u001b[A\n",
      "Epoch 69/69:  97%|▉| 6016/6182 [3:21:47<05:04,  1.83s/update, loss=0.744, update\u001b[A\n",
      "Epoch 69/69:  97%|▉| 6016/6182 [3:21:47<05:04,  1.83s/update, loss=0.466, update\u001b[A\n",
      "Epoch 69/69:  97%|▉| 6017/6182 [3:21:49<05:20,  1.94s/update, loss=0.466, update\u001b[A\n",
      "Epoch 69/69:  97%|▉| 6017/6182 [3:21:49<05:20,  1.94s/update, loss=0.421, update\u001b[A\n",
      "Epoch 69/69:  97%|▉| 6018/6182 [3:21:51<05:11,  1.90s/update, loss=0.421, update\u001b[A\n",
      "Epoch 69/69:  97%|▉| 6018/6182 [3:21:51<05:11,  1.90s/update, loss=0.691, update\u001b[A\n",
      "Epoch 69/69:  97%|▉| 6019/6182 [3:21:52<04:53,  1.80s/update, loss=0.691, update\u001b[A\n",
      "Epoch 69/69:  97%|▉| 6019/6182 [3:21:52<04:53,  1.80s/update, loss=0.566, update\u001b[A\n",
      "Epoch 69/69:  97%|▉| 6020/6182 [3:21:54<04:48,  1.78s/update, loss=0.566, update\u001b[A\n",
      "Epoch 69/69:  97%|▉| 6020/6182 [3:21:54<04:48,  1.78s/update, loss=0.529, update\u001b[A\n",
      "Epoch 69/69:  97%|▉| 6021/6182 [3:21:56<04:54,  1.83s/update, loss=0.529, update\u001b[A\n",
      "Epoch 69/69:  97%|▉| 6021/6182 [3:21:56<04:54,  1.83s/update, loss=0.493, update\u001b[A\n",
      "Epoch 69/69:  97%|▉| 6022/6182 [3:21:58<04:58,  1.86s/update, loss=0.493, update\u001b[A\n",
      "Epoch 69/69:  97%|▉| 6022/6182 [3:21:58<04:58,  1.86s/update, loss=0.853, update\u001b[A\n",
      "Epoch 69/69:  97%|▉| 6023/6182 [3:21:59<04:43,  1.79s/update, loss=0.853, update\u001b[A\n",
      "Epoch 69/69:  97%|▉| 6023/6182 [3:21:59<04:43,  1.79s/update, loss=0.494, update\u001b[A\n",
      "Epoch 69/69:  97%|▉| 6024/6182 [3:22:01<04:37,  1.76s/update, loss=0.494, update\u001b[A\n",
      "Epoch 69/69:  97%|▉| 6024/6182 [3:22:01<04:37,  1.76s/update, loss=0.574, update\u001b[A\n",
      "Epoch 69/69:  97%|▉| 6025/6182 [3:22:03<04:44,  1.81s/update, loss=0.574, update\u001b[A\n",
      "Epoch 69/69:  97%|▉| 6025/6182 [3:22:03<04:44,  1.81s/update, loss=0.522, update\u001b[A\n",
      "Epoch 69/69:  97%|▉| 6026/6182 [3:22:05<04:36,  1.77s/update, loss=0.522, update\u001b[A\n",
      "Epoch 69/69:  97%|▉| 6026/6182 [3:22:05<04:36,  1.77s/update, loss=0.66, update=\u001b[A\n",
      "Epoch 69/69:  97%|▉| 6027/6182 [3:22:07<04:44,  1.84s/update, loss=0.66, update=\u001b[A\n",
      "Epoch 69/69:  97%|▉| 6027/6182 [3:22:07<04:44,  1.84s/update, loss=0.515, update\u001b[A\n",
      "Epoch 69/69:  98%|▉| 6028/6182 [3:22:08<04:35,  1.79s/update, loss=0.515, update\u001b[A\n",
      "Epoch 69/69:  98%|▉| 6028/6182 [3:22:08<04:35,  1.79s/update, loss=0.562, update\u001b[A\n",
      "Epoch 69/69:  98%|▉| 6029/6182 [3:22:10<04:46,  1.87s/update, loss=0.562, update\u001b[A\n",
      "Epoch 69/69:  98%|▉| 6029/6182 [3:22:10<04:46,  1.87s/update, loss=0.721, update\u001b[A\n",
      "Epoch 69/69:  98%|▉| 6030/6182 [3:22:12<04:37,  1.82s/update, loss=0.721, update\u001b[A\n",
      "Epoch 69/69:  98%|▉| 6030/6182 [3:22:12<04:37,  1.82s/update, loss=0.551, update\u001b[A\n",
      "Epoch 69/69:  98%|▉| 6031/6182 [3:22:14<04:28,  1.78s/update, loss=0.551, update\u001b[A\n",
      "Epoch 69/69:  98%|▉| 6031/6182 [3:22:14<04:28,  1.78s/update, loss=0.426, update\u001b[A\n",
      "Epoch 69/69:  98%|▉| 6032/6182 [3:22:16<05:09,  2.07s/update, loss=0.426, update\u001b[A\n",
      "Epoch 69/69:  98%|▉| 6032/6182 [3:22:16<05:09,  2.07s/update, loss=0.579, update\u001b[A\n",
      "Epoch 69/69:  98%|▉| 6033/6182 [3:22:18<04:56,  1.99s/update, loss=0.579, update\u001b[A\n",
      "Epoch 69/69:  98%|▉| 6033/6182 [3:22:18<04:56,  1.99s/update, loss=0.658, update\u001b[A\n",
      "Epoch 69/69:  98%|▉| 6034/6182 [3:22:20<04:43,  1.92s/update, loss=0.658, update\u001b[A\n",
      "Epoch 69/69:  98%|▉| 6034/6182 [3:22:20<04:43,  1.92s/update, loss=0.515, update\u001b[A\n",
      "Epoch 69/69:  98%|▉| 6035/6182 [3:22:22<04:37,  1.89s/update, loss=0.515, update\u001b[A\n",
      "Epoch 69/69:  98%|▉| 6035/6182 [3:22:22<04:37,  1.89s/update, loss=0.555, update\u001b[A\n",
      "Epoch 69/69:  98%|▉| 6036/6182 [3:22:25<05:17,  2.17s/update, loss=0.555, update\u001b[A\n",
      "Epoch 69/69:  98%|▉| 6036/6182 [3:22:25<05:17,  2.17s/update, loss=0.789, update\u001b[A\n",
      "Epoch 69/69:  98%|▉| 6037/6182 [3:22:27<05:13,  2.16s/update, loss=0.789, update\u001b[A\n",
      "Epoch 69/69:  98%|▉| 6037/6182 [3:22:27<05:13,  2.16s/update, loss=0.62, update=\u001b[A\n",
      "Epoch 69/69:  98%|▉| 6038/6182 [3:22:29<04:56,  2.06s/update, loss=0.62, update=\u001b[A\n",
      "Epoch 69/69:  98%|▉| 6038/6182 [3:22:29<04:56,  2.06s/update, loss=0.447, update\u001b[A\n",
      "Epoch 69/69:  98%|▉| 6039/6182 [3:22:30<04:35,  1.93s/update, loss=0.447, update\u001b[A\n",
      "Epoch 69/69:  98%|▉| 6039/6182 [3:22:30<04:35,  1.93s/update, loss=0.523, update\u001b[A\n",
      "Epoch 69/69:  98%|▉| 6040/6182 [3:22:33<05:05,  2.15s/update, loss=0.523, update\u001b[A\n",
      "Epoch 69/69:  98%|▉| 6040/6182 [3:22:33<05:05,  2.15s/update, loss=0.783, update\u001b[A\n",
      "Epoch 69/69:  98%|▉| 6041/6182 [3:22:35<04:54,  2.09s/update, loss=0.783, update\u001b[A\n",
      "Epoch 69/69:  98%|▉| 6041/6182 [3:22:35<04:54,  2.09s/update, loss=0.5, update=4\u001b[A\n",
      "Epoch 69/69:  98%|▉| 6042/6182 [3:22:36<04:29,  1.92s/update, loss=0.5, update=4\u001b[A\n",
      "Epoch 69/69:  98%|▉| 6042/6182 [3:22:36<04:29,  1.92s/update, loss=0.762, update\u001b[A\n",
      "Epoch 69/69:  98%|▉| 6043/6182 [3:22:39<04:49,  2.08s/update, loss=0.762, update\u001b[A\n",
      "Epoch 69/69:  98%|▉| 6043/6182 [3:22:39<04:49,  2.08s/update, loss=0.426, update\u001b[A\n",
      "Epoch 69/69:  98%|▉| 6044/6182 [3:22:41<04:28,  1.95s/update, loss=0.426, update\u001b[A\n",
      "Epoch 69/69:  98%|▉| 6044/6182 [3:22:41<04:28,  1.95s/update, loss=0.683, update\u001b[A\n",
      "Epoch 69/69:  98%|▉| 6045/6182 [3:22:43<04:38,  2.03s/update, loss=0.683, update\u001b[A\n",
      "Epoch 69/69:  98%|▉| 6045/6182 [3:22:43<04:38,  2.03s/update, loss=0.515, update\u001b[A\n",
      "Epoch 69/69:  98%|▉| 6046/6182 [3:22:45<04:28,  1.98s/update, loss=0.515, update\u001b[A\n",
      "Epoch 69/69:  98%|▉| 6046/6182 [3:22:45<04:28,  1.98s/update, loss=0.502, update\u001b[A\n",
      "Epoch 69/69:  98%|▉| 6047/6182 [3:22:47<04:32,  2.02s/update, loss=0.502, update\u001b[A\n",
      "Epoch 69/69:  98%|▉| 6047/6182 [3:22:47<04:32,  2.02s/update, loss=0.492, update\u001b[A\n",
      "Epoch 69/69:  98%|▉| 6048/6182 [3:22:48<04:13,  1.89s/update, loss=0.492, update\u001b[A\n",
      "Epoch 69/69:  98%|▉| 6048/6182 [3:22:48<04:13,  1.89s/update, loss=0.471, update\u001b[A\n",
      "Epoch 69/69:  98%|▉| 6049/6182 [3:22:50<04:06,  1.85s/update, loss=0.471, update\u001b[A\n",
      "Epoch 69/69:  98%|▉| 6049/6182 [3:22:50<04:06,  1.85s/update, loss=0.68, update=\u001b[A\n",
      "Epoch 69/69:  98%|▉| 6050/6182 [3:22:53<04:41,  2.13s/update, loss=0.68, update=\u001b[A\n",
      "Epoch 69/69:  98%|▉| 6050/6182 [3:22:53<04:41,  2.13s/update, loss=0.532, update\u001b[A\n",
      "Epoch 69/69:  98%|▉| 6051/6182 [3:22:55<04:24,  2.02s/update, loss=0.532, update\u001b[A\n",
      "Epoch 69/69:  98%|▉| 6051/6182 [3:22:55<04:24,  2.02s/update, loss=0.515, update\u001b[A\n",
      "Epoch 69/69:  98%|▉| 6052/6182 [3:22:57<04:18,  1.99s/update, loss=0.515, update\u001b[A\n",
      "Epoch 69/69:  98%|▉| 6052/6182 [3:22:57<04:18,  1.99s/update, loss=0.491, update\u001b[A\n",
      "Epoch 69/69:  98%|▉| 6053/6182 [3:22:58<04:06,  1.91s/update, loss=0.491, update\u001b[A\n",
      "Epoch 69/69:  98%|▉| 6053/6182 [3:22:58<04:06,  1.91s/update, loss=0.503, update\u001b[A\n",
      "Epoch 69/69:  98%|▉| 6054/6182 [3:23:00<04:07,  1.93s/update, loss=0.503, update\u001b[A\n",
      "Epoch 69/69:  98%|▉| 6054/6182 [3:23:00<04:07,  1.93s/update, loss=0.517, update\u001b[A\n",
      "Epoch 69/69:  98%|▉| 6055/6182 [3:23:02<04:03,  1.92s/update, loss=0.517, update\u001b[A\n",
      "Epoch 69/69:  98%|▉| 6055/6182 [3:23:02<04:03,  1.92s/update, loss=0.8, update=4\u001b[A\n",
      "Epoch 69/69:  98%|▉| 6056/6182 [3:23:04<04:16,  2.03s/update, loss=0.8, update=4\u001b[A\n",
      "Epoch 69/69:  98%|▉| 6056/6182 [3:23:04<04:16,  2.03s/update, loss=0.654, update\u001b[A\n",
      "Epoch 69/69:  98%|▉| 6057/6182 [3:23:06<04:02,  1.94s/update, loss=0.654, update\u001b[A\n",
      "Epoch 69/69:  98%|▉| 6057/6182 [3:23:06<04:02,  1.94s/update, loss=0.669, update\u001b[A\n",
      "Epoch 69/69:  98%|▉| 6058/6182 [3:23:08<03:49,  1.85s/update, loss=0.669, update\u001b[A\n",
      "Epoch 69/69:  98%|▉| 6058/6182 [3:23:08<03:49,  1.85s/update, loss=0.555, update\u001b[A\n",
      "Epoch 69/69:  98%|▉| 6059/6182 [3:23:10<03:50,  1.87s/update, loss=0.555, update\u001b[A\n",
      "Epoch 69/69:  98%|▉| 6059/6182 [3:23:10<03:50,  1.87s/update, loss=0.533, update\u001b[A\n",
      "Epoch 69/69:  98%|▉| 6060/6182 [3:23:12<03:47,  1.86s/update, loss=0.533, update\u001b[A\n",
      "Epoch 69/69:  98%|▉| 6060/6182 [3:23:12<03:47,  1.86s/update, loss=0.74, update=\u001b[A\n",
      "Epoch 69/69:  98%|▉| 6061/6182 [3:23:13<03:46,  1.88s/update, loss=0.74, update=\u001b[A\n",
      "Epoch 69/69:  98%|▉| 6061/6182 [3:23:13<03:46,  1.88s/update, loss=0.991, update\u001b[A\n",
      "Epoch 69/69:  98%|▉| 6062/6182 [3:23:15<03:40,  1.84s/update, loss=0.991, update\u001b[A\n",
      "Epoch 69/69:  98%|▉| 6062/6182 [3:23:15<03:40,  1.84s/update, loss=0.505, update\u001b[A\n",
      "Epoch 69/69:  98%|▉| 6063/6182 [3:23:17<03:49,  1.93s/update, loss=0.505, update\u001b[A\n",
      "Epoch 69/69:  98%|▉| 6063/6182 [3:23:17<03:49,  1.93s/update, loss=0.448, update\u001b[A\n",
      "Epoch 69/69:  98%|▉| 6064/6182 [3:23:19<03:49,  1.95s/update, loss=0.448, update\u001b[A\n",
      "Epoch 69/69:  98%|▉| 6064/6182 [3:23:19<03:49,  1.95s/update, loss=0.822, update\u001b[A\n",
      "Epoch 69/69:  98%|▉| 6065/6182 [3:23:21<03:38,  1.86s/update, loss=0.822, update\u001b[A\n",
      "Epoch 69/69:  98%|▉| 6065/6182 [3:23:21<03:38,  1.86s/update, loss=0.59, update=\u001b[A\n",
      "Epoch 69/69:  98%|▉| 6066/6182 [3:23:23<03:30,  1.82s/update, loss=0.59, update=\u001b[A\n",
      "Epoch 69/69:  98%|▉| 6066/6182 [3:23:23<03:30,  1.82s/update, loss=0.525, update\u001b[A\n",
      "Epoch 69/69:  98%|▉| 6067/6182 [3:23:25<03:53,  2.03s/update, loss=0.525, update\u001b[A\n",
      "Epoch 69/69:  98%|▉| 6067/6182 [3:23:25<03:53,  2.03s/update, loss=0.572, update\u001b[A\n",
      "Epoch 69/69:  98%|▉| 6068/6182 [3:23:27<03:57,  2.09s/update, loss=0.572, update\u001b[A\n",
      "Epoch 69/69:  98%|▉| 6068/6182 [3:23:27<03:57,  2.09s/update, loss=0.525, update\u001b[A\n",
      "Epoch 69/69:  98%|▉| 6069/6182 [3:23:29<03:41,  1.96s/update, loss=0.525, update\u001b[A\n",
      "Epoch 69/69:  98%|▉| 6069/6182 [3:23:29<03:41,  1.96s/update, loss=0.595, update\u001b[A\n",
      "Epoch 69/69:  98%|▉| 6070/6182 [3:23:31<03:30,  1.88s/update, loss=0.595, update\u001b[A\n",
      "Epoch 69/69:  98%|▉| 6070/6182 [3:23:31<03:30,  1.88s/update, loss=0.705, update\u001b[A\n",
      "Epoch 69/69:  98%|▉| 6071/6182 [3:23:33<03:28,  1.88s/update, loss=0.705, update\u001b[A\n",
      "Epoch 69/69:  98%|▉| 6071/6182 [3:23:33<03:28,  1.88s/update, loss=0.642, update\u001b[A\n",
      "Epoch 69/69:  98%|▉| 6072/6182 [3:23:34<03:24,  1.86s/update, loss=0.642, update\u001b[A\n",
      "Epoch 69/69:  98%|▉| 6072/6182 [3:23:34<03:24,  1.86s/update, loss=0.591, update\u001b[A\n",
      "Epoch 69/69:  98%|▉| 6073/6182 [3:23:36<03:15,  1.79s/update, loss=0.591, update\u001b[A\n",
      "Epoch 69/69:  98%|▉| 6073/6182 [3:23:36<03:15,  1.79s/update, loss=0.502, update\u001b[A\n",
      "Epoch 69/69:  98%|▉| 6074/6182 [3:23:38<03:30,  1.95s/update, loss=0.502, update\u001b[A\n",
      "Epoch 69/69:  98%|▉| 6074/6182 [3:23:38<03:30,  1.95s/update, loss=0.615, update\u001b[A\n",
      "Epoch 69/69:  98%|▉| 6075/6182 [3:23:40<03:13,  1.81s/update, loss=0.615, update\u001b[A\n",
      "Epoch 69/69:  98%|▉| 6075/6182 [3:23:40<03:13,  1.81s/update, loss=0.612, update\u001b[A\n",
      "Epoch 69/69:  98%|▉| 6076/6182 [3:23:42<03:13,  1.83s/update, loss=0.612, update\u001b[A\n",
      "Epoch 69/69:  98%|▉| 6076/6182 [3:23:42<03:13,  1.83s/update, loss=0.712, update\u001b[A\n",
      "Epoch 69/69:  98%|▉| 6077/6182 [3:23:44<03:30,  2.01s/update, loss=0.712, update\u001b[A\n",
      "Epoch 69/69:  98%|▉| 6077/6182 [3:23:44<03:30,  2.01s/update, loss=1.18, update=\u001b[A\n",
      "Epoch 69/69:  98%|▉| 6078/6182 [3:23:46<03:34,  2.06s/update, loss=1.18, update=\u001b[A\n",
      "Epoch 69/69:  98%|▉| 6078/6182 [3:23:46<03:34,  2.06s/update, loss=1.66, update=\u001b[A\n",
      "Epoch 69/69:  98%|▉| 6079/6182 [3:23:48<03:21,  1.96s/update, loss=1.66, update=\u001b[A\n",
      "Epoch 69/69:  98%|▉| 6079/6182 [3:23:48<03:21,  1.96s/update, loss=0.728, update\u001b[A\n",
      "Epoch 69/69:  98%|▉| 6080/6182 [3:23:50<03:07,  1.84s/update, loss=0.728, update\u001b[A\n",
      "Epoch 69/69:  98%|▉| 6080/6182 [3:23:50<03:07,  1.84s/update, loss=0.621, update\u001b[A\n",
      "Epoch 69/69:  98%|▉| 6081/6182 [3:23:51<03:03,  1.81s/update, loss=0.621, update\u001b[A\n",
      "Epoch 69/69:  98%|▉| 6081/6182 [3:23:51<03:03,  1.81s/update, loss=0.586, update\u001b[A\n",
      "Epoch 69/69:  98%|▉| 6082/6182 [3:23:53<02:55,  1.76s/update, loss=0.586, update\u001b[A\n",
      "Epoch 69/69:  98%|▉| 6082/6182 [3:23:53<02:55,  1.76s/update, loss=0.728, update\u001b[A\n",
      "Epoch 69/69:  98%|▉| 6083/6182 [3:23:55<02:56,  1.78s/update, loss=0.728, update\u001b[A\n",
      "Epoch 69/69:  98%|▉| 6083/6182 [3:23:55<02:56,  1.78s/update, loss=0.514, update\u001b[A\n",
      "Epoch 69/69:  98%|▉| 6084/6182 [3:23:57<02:52,  1.76s/update, loss=0.514, update\u001b[A\n",
      "Epoch 69/69:  98%|▉| 6084/6182 [3:23:57<02:52,  1.76s/update, loss=0.567, update\u001b[A\n",
      "Epoch 69/69:  98%|▉| 6085/6182 [3:23:59<02:55,  1.81s/update, loss=0.567, update\u001b[A\n",
      "Epoch 69/69:  98%|▉| 6085/6182 [3:23:59<02:55,  1.81s/update, loss=0.547, update\u001b[A\n",
      "Epoch 69/69:  98%|▉| 6086/6182 [3:24:00<02:51,  1.79s/update, loss=0.547, update\u001b[A\n",
      "Epoch 69/69:  98%|▉| 6086/6182 [3:24:00<02:51,  1.79s/update, loss=0.862, update\u001b[A\n",
      "Epoch 69/69:  98%|▉| 6087/6182 [3:24:02<02:53,  1.83s/update, loss=0.862, update\u001b[A\n",
      "Epoch 69/69:  98%|▉| 6087/6182 [3:24:02<02:53,  1.83s/update, loss=0.519, update\u001b[A\n",
      "Epoch 69/69:  98%|▉| 6088/6182 [3:24:04<02:56,  1.88s/update, loss=0.519, update\u001b[A\n",
      "Epoch 69/69:  98%|▉| 6088/6182 [3:24:04<02:56,  1.88s/update, loss=0.497, update\u001b[A\n",
      "Epoch 69/69:  98%|▉| 6089/6182 [3:24:07<03:08,  2.03s/update, loss=0.497, update\u001b[A\n",
      "Epoch 69/69:  98%|▉| 6089/6182 [3:24:07<03:08,  2.03s/update, loss=0.67, update=\u001b[A\n",
      "Epoch 69/69:  99%|▉| 6090/6182 [3:24:08<02:59,  1.96s/update, loss=0.67, update=\u001b[A\n",
      "Epoch 69/69:  99%|▉| 6090/6182 [3:24:08<02:59,  1.96s/update, loss=0.458, update\u001b[A\n",
      "Epoch 69/69:  99%|▉| 6091/6182 [3:24:10<02:35,  1.71s/update, loss=0.458, update\u001b[A\n",
      "Epoch 69/69:  99%|▉| 6091/6182 [3:24:10<02:35,  1.71s/update, loss=0.382, update\u001b[A\n",
      "Epoch 69/69:  99%|▉| 6092/6182 [3:24:11<02:31,  1.69s/update, loss=0.382, update\u001b[A\n",
      "Epoch 69/69:  99%|▉| 6092/6182 [3:24:11<02:31,  1.69s/update, loss=0.651, update\u001b[A\n",
      "Epoch 69/69:  99%|▉| 6093/6182 [3:24:13<02:39,  1.79s/update, loss=0.651, update\u001b[A\n",
      "Epoch 69/69:  99%|▉| 6093/6182 [3:24:13<02:39,  1.79s/update, loss=0.521, update\u001b[A\n",
      "Epoch 69/69:  99%|▉| 6094/6182 [3:24:15<02:34,  1.76s/update, loss=0.521, update\u001b[A\n",
      "Epoch 69/69:  99%|▉| 6094/6182 [3:24:15<02:34,  1.76s/update, loss=0.507, update\u001b[A\n",
      "Epoch 69/69:  99%|▉| 6095/6182 [3:24:17<02:30,  1.73s/update, loss=0.507, update\u001b[A\n",
      "Epoch 69/69:  99%|▉| 6095/6182 [3:24:17<02:30,  1.73s/update, loss=0.633, update\u001b[A\n",
      "Epoch 69/69:  99%|▉| 6096/6182 [3:24:20<03:01,  2.12s/update, loss=0.633, update\u001b[A\n",
      "Epoch 69/69:  99%|▉| 6096/6182 [3:24:20<03:01,  2.12s/update, loss=0.476, update\u001b[A\n",
      "Epoch 69/69:  99%|▉| 6097/6182 [3:24:21<02:55,  2.06s/update, loss=0.476, update\u001b[A\n",
      "Epoch 69/69:  99%|▉| 6097/6182 [3:24:21<02:55,  2.06s/update, loss=0.528, update\u001b[A\n",
      "Epoch 69/69:  99%|▉| 6098/6182 [3:24:23<02:51,  2.05s/update, loss=0.528, update\u001b[A\n",
      "Epoch 69/69:  99%|▉| 6098/6182 [3:24:23<02:51,  2.05s/update, loss=0.916, update\u001b[A\n",
      "Epoch 69/69:  99%|▉| 6099/6182 [3:24:25<02:37,  1.89s/update, loss=0.916, update\u001b[A\n",
      "Epoch 69/69:  99%|▉| 6099/6182 [3:24:25<02:37,  1.89s/update, loss=0.679, update\u001b[A\n",
      "Epoch 69/69:  99%|▉| 6100/6182 [3:24:27<02:34,  1.89s/update, loss=0.679, update\u001b[A\n",
      "Epoch 69/69:  99%|▉| 6100/6182 [3:24:27<02:34,  1.89s/update, loss=0.555, update\u001b[A\n",
      "Epoch 69/69:  99%|▉| 6101/6182 [3:24:29<02:28,  1.84s/update, loss=0.555, update\u001b[A\n",
      "Epoch 69/69:  99%|▉| 6101/6182 [3:24:29<02:28,  1.84s/update, loss=0.559, update\u001b[A\n",
      "Epoch 69/69:  99%|▉| 6102/6182 [3:24:31<02:33,  1.92s/update, loss=0.559, update\u001b[A\n",
      "Epoch 69/69:  99%|▉| 6102/6182 [3:24:31<02:33,  1.92s/update, loss=0.737, update\u001b[A\n",
      "Epoch 69/69:  99%|▉| 6103/6182 [3:24:33<02:38,  2.00s/update, loss=0.737, update\u001b[A\n",
      "Epoch 69/69:  99%|▉| 6103/6182 [3:24:33<02:38,  2.00s/update, loss=0.602, update\u001b[A\n",
      "Epoch 69/69:  99%|▉| 6104/6182 [3:24:35<02:27,  1.89s/update, loss=0.602, update\u001b[A\n",
      "Epoch 69/69:  99%|▉| 6104/6182 [3:24:35<02:27,  1.89s/update, loss=0.455, update\u001b[A\n",
      "Epoch 69/69:  99%|▉| 6105/6182 [3:24:36<02:24,  1.88s/update, loss=0.455, update\u001b[A\n",
      "Epoch 69/69:  99%|▉| 6105/6182 [3:24:36<02:24,  1.88s/update, loss=0.625, update\u001b[A\n",
      "Epoch 69/69:  99%|▉| 6106/6182 [3:24:38<02:18,  1.82s/update, loss=0.625, update\u001b[A\n",
      "Epoch 69/69:  99%|▉| 6106/6182 [3:24:38<02:18,  1.82s/update, loss=0.527, update\u001b[A\n",
      "Epoch 69/69: 100%|▉| 6153/6182 [3:26:15<01:00,  2.10s/update, loss=0.477, update\u001b[A\n",
      "Epoch 69/69: 100%|▉| 6153/6182 [3:26:15<01:00,  2.10s/update, loss=0.631, update\u001b[A\n",
      "Epoch 69/69: 100%|▉| 6154/6182 [3:26:17<00:58,  2.07s/update, loss=0.631, update\u001b[A\n",
      "Epoch 69/69: 100%|▉| 6154/6182 [3:26:17<00:58,  2.07s/update, loss=0.592, update\u001b[A\n",
      "Epoch 69/69: 100%|▉| 6155/6182 [3:26:19<00:55,  2.06s/update, loss=0.592, update\u001b[A\n",
      "Epoch 69/69: 100%|▉| 6155/6182 [3:26:19<00:55,  2.06s/update, loss=0.563, update\u001b[A\n",
      "Epoch 69/69: 100%|▉| 6156/6182 [3:26:21<00:52,  2.04s/update, loss=0.563, update\u001b[A\n",
      "Epoch 69/69: 100%|▉| 6156/6182 [3:26:21<00:52,  2.04s/update, loss=0.722, update\u001b[A\n",
      "Epoch 69/69: 100%|▉| 6157/6182 [3:26:23<00:49,  1.97s/update, loss=0.722, update\u001b[A\n",
      "Epoch 69/69: 100%|▉| 6157/6182 [3:26:23<00:49,  1.97s/update, loss=0.542, update\u001b[A\n",
      "Epoch 69/69: 100%|▉| 6158/6182 [3:26:25<00:49,  2.07s/update, loss=0.542, update\u001b[A\n",
      "Epoch 69/69: 100%|▉| 6158/6182 [3:26:25<00:49,  2.07s/update, loss=0.659, update\u001b[A\n",
      "Epoch 69/69: 100%|▉| 6159/6182 [3:26:27<00:48,  2.09s/update, loss=0.659, update\u001b[A\n",
      "Epoch 69/69: 100%|▉| 6159/6182 [3:26:27<00:48,  2.09s/update, loss=0.584, update\u001b[A\n",
      "Epoch 69/69: 100%|▉| 6160/6182 [3:26:29<00:43,  1.99s/update, loss=0.584, update\u001b[A\n",
      "Epoch 69/69: 100%|▉| 6160/6182 [3:26:29<00:43,  1.99s/update, loss=1.07, update=\u001b[A\n",
      "Epoch 69/69: 100%|▉| 6161/6182 [3:26:31<00:41,  1.95s/update, loss=1.07, update=\u001b[A\n",
      "Epoch 69/69: 100%|▉| 6161/6182 [3:26:31<00:41,  1.95s/update, loss=0.566, update\u001b[A\n",
      "Epoch 69/69: 100%|▉| 6162/6182 [3:26:33<00:37,  1.87s/update, loss=0.566, update\u001b[A\n",
      "Epoch 69/69: 100%|▉| 6162/6182 [3:26:33<00:37,  1.87s/update, loss=0.58, update=\u001b[A\n",
      "Epoch 69/69: 100%|▉| 6163/6182 [3:26:34<00:35,  1.85s/update, loss=0.58, update=\u001b[A\n",
      "Epoch 69/69: 100%|▉| 6163/6182 [3:26:34<00:35,  1.85s/update, loss=0.49, update=\u001b[A\n",
      "Epoch 69/69: 100%|▉| 6164/6182 [3:26:37<00:36,  2.05s/update, loss=0.49, update=\u001b[A\n",
      "Epoch 69/69: 100%|▉| 6164/6182 [3:26:37<00:36,  2.05s/update, loss=1.05, update=\u001b[A\n",
      "Epoch 69/69: 100%|▉| 6165/6182 [3:26:39<00:34,  2.00s/update, loss=1.05, update=\u001b[A\n",
      "Epoch 69/69: 100%|▉| 6165/6182 [3:26:39<00:34,  2.00s/update, loss=0.794, update\u001b[A\n",
      "Epoch 69/69: 100%|▉| 6166/6182 [3:26:41<00:30,  1.92s/update, loss=0.794, update\u001b[A\n",
      "Epoch 69/69: 100%|▉| 6166/6182 [3:26:41<00:30,  1.92s/update, loss=0.689, update\u001b[A\n",
      "Epoch 69/69: 100%|▉| 6167/6182 [3:26:42<00:27,  1.84s/update, loss=0.689, update\u001b[A\n",
      "Epoch 69/69: 100%|▉| 6167/6182 [3:26:42<00:27,  1.84s/update, loss=0.665, update\u001b[A\n",
      "Epoch 69/69: 100%|▉| 6168/6182 [3:26:44<00:25,  1.81s/update, loss=0.665, update\u001b[A\n",
      "Epoch 69/69: 100%|▉| 6168/6182 [3:26:44<00:25,  1.81s/update, loss=0.453, update\u001b[A\n",
      "Epoch 69/69: 100%|▉| 6169/6182 [3:26:47<00:26,  2.07s/update, loss=0.453, update\u001b[A\n",
      "Epoch 69/69: 100%|▉| 6169/6182 [3:26:47<00:26,  2.07s/update, loss=0.559, update\u001b[A\n",
      "Epoch 69/69: 100%|▉| 6170/6182 [3:26:49<00:26,  2.20s/update, loss=0.559, update\u001b[A\n",
      "Epoch 69/69: 100%|▉| 6170/6182 [3:26:49<00:26,  2.20s/update, loss=0.465, update\u001b[A\n",
      "Epoch 69/69: 100%|▉| 6171/6182 [3:26:51<00:22,  2.04s/update, loss=0.465, update\u001b[A\n",
      "Epoch 69/69: 100%|▉| 6171/6182 [3:26:51<00:22,  2.04s/update, loss=0.433, update\u001b[A\n",
      "Epoch 69/69: 100%|▉| 6172/6182 [3:26:53<00:19,  1.99s/update, loss=0.433, update\u001b[A\n",
      "Epoch 69/69: 100%|▉| 6172/6182 [3:26:53<00:19,  1.99s/update, loss=0.72, update=\u001b[A\n",
      "Epoch 69/69: 100%|▉| 6173/6182 [3:26:55<00:17,  1.94s/update, loss=0.72, update=\u001b[A\n",
      "Epoch 69/69: 100%|▉| 6173/6182 [3:26:55<00:17,  1.94s/update, loss=0.443, update\u001b[A\n",
      "Epoch 69/69: 100%|▉| 6174/6182 [3:26:56<00:15,  1.90s/update, loss=0.443, update\u001b[A\n",
      "Epoch 69/69: 100%|▉| 6174/6182 [3:26:56<00:15,  1.90s/update, loss=0.478, update\u001b[A\n",
      "Epoch 69/69: 100%|▉| 6175/6182 [3:26:59<00:13,  1.99s/update, loss=0.478, update\u001b[A\n",
      "Epoch 69/69: 100%|▉| 6175/6182 [3:26:59<00:13,  1.99s/update, loss=0.972, update\u001b[A\n",
      "Epoch 69/69: 100%|▉| 6176/6182 [3:27:01<00:13,  2.27s/update, loss=0.972, update\u001b[A\n",
      "Epoch 69/69: 100%|▉| 6176/6182 [3:27:01<00:13,  2.27s/update, loss=0.398, update\u001b[A\n",
      "Epoch 69/69: 100%|▉| 6177/6182 [3:27:04<00:11,  2.24s/update, loss=0.398, update\u001b[A\n",
      "Epoch 69/69: 100%|▉| 6177/6182 [3:27:04<00:11,  2.24s/update, loss=0.585, update\u001b[A\n",
      "Epoch 69/69: 100%|▉| 6178/6182 [3:27:05<00:08,  2.04s/update, loss=0.585, update\u001b[A\n",
      "Epoch 69/69: 100%|▉| 6178/6182 [3:27:05<00:08,  2.04s/update, loss=0.515, update\u001b[A\n",
      "Epoch 69/69: 100%|▉| 6179/6182 [3:27:08<00:06,  2.12s/update, loss=0.515, update\u001b[A\n",
      "Epoch 69/69: 100%|▉| 6179/6182 [3:27:08<00:06,  2.12s/update, loss=0.48, update=\u001b[A\n",
      "Epoch 69/69: 100%|▉| 6180/6182 [3:27:09<00:04,  2.00s/update, loss=0.48, update=\u001b[A\n",
      "Epoch 69/69: 100%|▉| 6180/6182 [3:27:09<00:04,  2.00s/update, loss=0.491, update\u001b[A\n",
      "Epoch 69/69: 100%|▉| 6181/6182 [3:27:12<00:02,  2.18s/update, loss=0.491, update\u001b[A\n",
      "Epoch 69/69: 100%|▉| 6181/6182 [3:27:12<00:02,  2.18s/update, loss=0.526, update\u001b[A\n",
      "Epoch 69/69: 100%|█| 6182/6182 [3:27:13<00:00,  1.83s/update, loss=0.526, update\u001b[A\n",
      "Epoch 69/69: 100%|█| 6182/6182 [3:27:13<00:00,  1.83s/update, loss=0.438, update\u001b[ASaved last checkpoint at update 426524\n",
      "Epoch 69/69: 100%|█| 6182/6182 [3:27:36<00:00,  2.01s/update, loss=0.438, update\n"
     ]
    }
   ],
   "source": [
    "# ************\n",
    "!accelerate launch ./src/f5_tts/train/finetune_cli.py \\\n",
    "                    --exp_name F5TTS_Base \\\n",
    "                    --dataset_name vin100h-preprocessed-v2 \\\n",
    "                    --finetune \\\n",
    "                    --tokenizer pinyin \\\n",
    "                    --learning_rate 1e-05 \\\n",
    "                    --batch_size_type frame \\\n",
    "                    --batch_size_per_gpu 3200 \\\n",
    "                    --max_samples 64 \\\n",
    "                    --grad_accumulation_steps 2 \\\n",
    "                    --max_grad_norm 1 \\\n",
    "                    --epochs 69 \\\n",
    "                    --num_warmup_updates 2761 \\\n",
    "                    --save_per_updates 4000 \\\n",
    "                    --keep_last_n_checkpoints 1 \\\n",
    "                    --last_per_updates 4000 \\\n",
    "                    --log_samples \\\n",
    "                    --pretrain ./ckpts/vin100h-preprocessed-v2/model_last.pt\n",
    "                    # [--pretrain PRETRAIN\n",
    "                    #10 6182"
   ]
  },
  {
   "cell_type": "markdown",
   "metadata": {},
   "source": [
    "#### ok"
   ]
  },
  {
   "cell_type": "code",
   "execution_count": 15,
   "metadata": {
    "execution": {
     "iopub.execute_input": "2025-06-13T17:28:25.043296Z",
     "iopub.status.busy": "2025-06-13T17:28:25.042613Z",
     "iopub.status.idle": "2025-06-13T17:28:25.267641Z",
     "shell.execute_reply": "2025-06-13T17:28:25.266919Z",
     "shell.execute_reply.started": "2025-06-13T17:28:25.043266Z"
    },
    "trusted": true
   },
   "outputs": [
    {
     "name": "stdout",
     "output_type": "stream",
     "text": [
      "abc\n"
     ]
    }
   ],
   "source": [
    "!echo abc"
   ]
  },
  {
   "cell_type": "code",
   "execution_count": 18,
   "metadata": {
    "execution": {
     "iopub.execute_input": "2025-06-13T17:32:23.792639Z",
     "iopub.status.busy": "2025-06-13T17:32:23.792430Z",
     "iopub.status.idle": "2025-06-13T17:32:23.923708Z",
     "shell.execute_reply": "2025-06-13T17:32:23.922745Z",
     "shell.execute_reply.started": "2025-06-13T17:32:23.792623Z"
    },
    "trusted": true
   },
   "outputs": [
    {
     "name": "stdout",
     "output_type": "stream",
     "text": [
      "done\n"
     ]
    }
   ],
   "source": [
    "!echo done"
   ]
  },
  {
   "cell_type": "markdown",
   "metadata": {},
   "source": [
    "# Copy and save"
   ]
  },
  {
   "cell_type": "code",
   "execution_count": 16,
   "metadata": {
    "execution": {
     "iopub.execute_input": "2025-06-13T17:28:35.363524Z",
     "iopub.status.busy": "2025-06-13T17:28:35.362844Z",
     "iopub.status.idle": "2025-06-13T17:28:48.560091Z",
     "shell.execute_reply": "2025-06-13T17:28:48.558954Z",
     "shell.execute_reply.started": "2025-06-13T17:28:35.363495Z"
    },
    "trusted": true
   },
   "outputs": [],
   "source": [
    "# *******************88888\n",
    "saving_path = '/kaggle/working/69'\n",
    "os.makedirs(saving_path, exist_ok=True)\n",
    "!cp -r ./ckpts/vin100h-preprocessed-v2/model_last.pt $saving_path"
   ]
  },
  {
   "cell_type": "code",
   "execution_count": 17,
   "metadata": {
    "execution": {
     "iopub.execute_input": "2025-06-13T17:29:03.139553Z",
     "iopub.status.busy": "2025-06-13T17:29:03.139259Z",
     "iopub.status.idle": "2025-06-13T17:32:23.791415Z",
     "shell.execute_reply": "2025-06-13T17:32:23.790789Z",
     "shell.execute_reply.started": "2025-06-13T17:29:03.139527Z"
    },
    "trusted": true
   },
   "outputs": [
    {
     "data": {
      "application/vnd.jupyter.widget-view+json": {
       "model_id": "2633f42f0e504628a022a47ce1743277",
       "version_major": 2,
       "version_minor": 0
      },
      "text/plain": [
       "Recovering from metadata files:   0%|          | 0/1 [00:00<?, ?it/s]"
      ]
     },
     "metadata": {},
     "output_type": "display_data"
    },
    {
     "name": "stdout",
     "output_type": "stream",
     "text": [
      "\n",
      "\n",
      "\n",
      "---------- 2025-06-13 17:29:03 (0:00:00) ----------\n",
      "Files:   hashed 0/1 (0.0/5.4G) | pre-uploaded: 0/0 (0.0/5.4G) (+1 unsure) | committed: 0/1 (0.0/5.4G) | ignored: 0\n",
      "Workers: hashing: 1 | get upload mode: 0 | pre-uploading: 0 | committing: 0 | waiting: 1\n",
      "---------------------------------------------------\n"
     ]
    },
    {
     "data": {
      "application/vnd.jupyter.widget-view+json": {
       "model_id": "9b3053491b1c453e81cd6d8126abbddc",
       "version_major": 2,
       "version_minor": 0
      },
      "text/plain": [
       "model_last.pt:   0%|          | 0.00/5.39G [00:00<?, ?B/s]"
      ]
     },
     "metadata": {},
     "output_type": "display_data"
    },
    {
     "name": "stdout",
     "output_type": "stream",
     "text": [
      "\u001b[K\u001b[F\n",
      "---------- 2025-06-13 17:30:03 (0:01:00) ----------\n",
      "Files:   hashed 1/1 (5.4G/5.4G) | pre-uploaded: 0/1 (0.0/5.4G) | committed: 0/1 (0.0/5.4G) | ignored: 0\n",
      "Workers: hashing: 0 | get upload mode: 0 | pre-uploading: 1 | committing: 0 | waiting: 1\n",
      "---------------------------------------------------\n",
      "\u001b[K\u001b[F                                           \n",
      "---------- 2025-06-13 17:31:03 (0:02:00) ----------\n",
      "Files:   hashed 1/1 (5.4G/5.4G) | pre-uploaded: 0/1 (0.0/5.4G) | committed: 0/1 (0.0/5.4G) | ignored: 0\n",
      "Workers: hashing: 0 | get upload mode: 0 | pre-uploading: 1 | committing: 0 | waiting: 1\n",
      "---------------------------------------------------\n",
      "\u001b[K\u001b[F                                           \n",
      "---------- 2025-06-13 17:32:03 (0:03:00) ----------\n",
      "Files:   hashed 1/1 (5.4G/5.4G) | pre-uploaded: 0/1 (0.0/5.4G) | committed: 0/1 (0.0/5.4G) | ignored: 0\n",
      "Workers: hashing: 0 | get upload mode: 0 | pre-uploading: 1 | committing: 0 | waiting: 1\n",
      "---------------------------------------------------\n",
      "                                                 "
     ]
    }
   ],
   "source": [
    "# Upload the folder to the repository root\n",
    "api.upload_large_folder(\n",
    "    folder_path=\"/kaggle/working/\",  # Local folder path\n",
    "    repo_id=\"heboya8/t5-tts-temp-model\",\n",
    "    repo_type=\"model\",\n",
    "    # multi_commits=True,  # Enable resumable uploads\n",
    "    # multi_commits_verbose=True  # Show progress\n",
    ")"
   ]
  },
  {
   "cell_type": "markdown",
   "metadata": {},
   "source": [
    "# Prune Checkpoint"
   ]
  },
  {
   "cell_type": "code",
   "execution_count": null,
   "metadata": {
    "execution": {
     "iopub.execute_input": "2025-05-11T14:11:57.837831Z",
     "iopub.status.busy": "2025-05-11T14:11:57.837476Z",
     "iopub.status.idle": "2025-05-11T14:11:57.844498Z",
     "shell.execute_reply": "2025-05-11T14:11:57.843701Z",
     "shell.execute_reply.started": "2025-05-11T14:11:57.837803Z"
    },
    "trusted": true
   },
   "outputs": [],
   "source": [
    "import torch\n",
    "\n",
    "def prune_checkpoint(checkpoint_path: str, new_checkpoint_path: str, save_ema: bool, safetensors: bool) -> str:\n",
    "    try:\n",
    "        checkpoint = torch.load(checkpoint_path, weights_only=True)\n",
    "        print(\"Original Checkpoint Keys:\", checkpoint.keys())\n",
    "\n",
    "        to_retain = \"ema_model_state_dict\" if save_ema else \"model_state_dict\"\n",
    "        try:\n",
    "            model_state_dict_to_retain = checkpoint[to_retain]\n",
    "        except KeyError:\n",
    "            return f\"{to_retain} not found in the checkpoint.\"\n",
    "\n",
    "        if safetensors:\n",
    "            new_checkpoint_path = new_checkpoint_path.replace(\".pt\", \".safetensors\")\n",
    "            save_file(model_state_dict_to_retain, new_checkpoint_path)\n",
    "        else:\n",
    "            new_checkpoint_path = new_checkpoint_path.replace(\".safetensors\", \".pt\")\n",
    "            new_checkpoint = {\"ema_model_state_dict\": model_state_dict_to_retain}\n",
    "            torch.save(new_checkpoint, new_checkpoint_path)\n",
    "\n",
    "        return f\"New checkpoint saved at: {new_checkpoint_path}\"\n",
    "\n",
    "    except Exception as e:\n",
    "        return f\"An error occurred: {e}\""
   ]
  },
  {
   "cell_type": "code",
   "execution_count": null,
   "metadata": {
    "execution": {
     "iopub.execute_input": "2025-05-11T14:22:24.624318Z",
     "iopub.status.busy": "2025-05-11T14:22:24.623974Z",
     "iopub.status.idle": "2025-05-11T14:22:30.316195Z",
     "shell.execute_reply": "2025-05-11T14:22:30.315529Z",
     "shell.execute_reply.started": "2025-05-11T14:22:24.624292Z"
    },
    "trusted": true
   },
   "outputs": [],
   "source": [
    "# Prune a checkpoint after training resize model\n",
    "result = prune_checkpoint(\n",
    "    checkpoint_path=\"/kaggle/working/F5-TTS/ckpts/vin100h-preprocessed-v2/model_last.pt\",\n",
    "    new_checkpoint_path=\"/root/.cache/abc.pt\",\n",
    "    save_ema=False,\n",
    "    safetensors=False\n",
    ")\n",
    "print(result)"
   ]
  },
  {
   "cell_type": "markdown",
   "metadata": {},
   "source": [
    "# Inference"
   ]
  },
  {
   "cell_type": "code",
   "execution_count": null,
   "metadata": {
    "execution": {
     "execution_failed": "2025-05-26T16:06:23.829Z"
    },
    "trusted": true
   },
   "outputs": [],
   "source": [
    "from IPython.display import Audio\n",
    "Audio(filename=\"./data/vin100h-preprocessed-v2/wavs/audio_000010.wav\")"
   ]
  },
  {
   "cell_type": "code",
   "execution_count": null,
   "metadata": {
    "execution": {
     "iopub.execute_input": "2025-05-26T12:47:31.959152Z",
     "iopub.status.busy": "2025-05-26T12:47:31.958923Z",
     "iopub.status.idle": "2025-05-26T12:48:10.349264Z",
     "shell.execute_reply": "2025-05-26T12:48:10.348434Z",
     "shell.execute_reply.started": "2025-05-26T12:47:31.959126Z"
    },
    "trusted": true
   },
   "outputs": [],
   "source": [
    "!python ./src/f5_tts/infer/infer_cli.py \\\n",
    "        --model \"vin100h-preprocessed-v2\" \\\n",
    "        --model_cfg \"./src/f5_tts/configs/F5TTS_Base.yaml\" \\\n",
    "        --ckpt_file \"./ckpts/vin100h-preprocessed-v2/model_last.pt\" \\\n",
    "        --vocab_file \"./data/vin100h-preprocessed-v2_pinyin/vocab.txt\" \\\n",
    "        --ref_audio \"./data/vin100h-preprocessed-v2/wavs/audio_000010.wav\" \\\n",
    "        --ref_text \"Về giá cả so với giá bán ngoài các siêu thị thì dâu trái ở đây rẻ hơn khá nhiều. Giả sử như bó rau ở siêu thị bán khoảng 2 đô la một bó thì ở đây chỉ có một đô la một bó. Có khi mua 50 bó được tặng thêm một bó nữa.\" \\\n",
    "        --gen_text \"Chào cả nhà cả nhà khỏe không\" \\\n",
    "        --output_dir \"/kaggle/working\"\n",
    "        # --output_file \"/content/abc.wav\""
   ]
  },
  {
   "cell_type": "code",
   "execution_count": null,
   "metadata": {
    "execution": {
     "iopub.execute_input": "2025-05-26T12:48:40.946990Z",
     "iopub.status.busy": "2025-05-26T12:48:40.946348Z",
     "iopub.status.idle": "2025-05-26T12:48:40.953421Z",
     "shell.execute_reply": "2025-05-26T12:48:40.952760Z",
     "shell.execute_reply.started": "2025-05-26T12:48:40.946967Z"
    },
    "trusted": true
   },
   "outputs": [],
   "source": [
    "from IPython.display import Audio\n",
    "Audio(filename=\"/kaggle/working/infer_cli_basic.wav\")"
   ]
  },
  {
   "cell_type": "markdown",
   "metadata": {},
   "source": [
    "## Download"
   ]
  },
  {
   "cell_type": "code",
   "execution_count": 12,
   "metadata": {
    "execution": {
     "iopub.execute_input": "2025-06-13T10:26:34.769075Z",
     "iopub.status.busy": "2025-06-13T10:26:34.768613Z",
     "iopub.status.idle": "2025-06-13T10:27:05.837772Z",
     "shell.execute_reply": "2025-06-13T10:27:05.836916Z",
     "shell.execute_reply.started": "2025-06-13T10:26:34.769051Z"
    },
    "trusted": true
   },
   "outputs": [
    {
     "name": "stdout",
     "output_type": "stream",
     "text": [
      "Updated git hooks.\n",
      "Git LFS initialized.\n"
     ]
    },
    {
     "data": {
      "application/vnd.jupyter.widget-view+json": {
       "model_id": "03307eb632cd40898c25188a7cd2fcac",
       "version_major": 2,
       "version_minor": 0
      },
      "text/plain": [
       "Fetching 2 files:   0%|          | 0/2 [00:00<?, ?it/s]"
      ]
     },
     "metadata": {},
     "output_type": "display_data"
    },
    {
     "data": {
      "application/vnd.jupyter.widget-view+json": {
       "model_id": "8ba2d4af671e43998826ea4122394302",
       "version_major": 2,
       "version_minor": 0
      },
      "text/plain": [
       "data_compress.zip:   0%|          | 0.00/10.1G [00:00<?, ?B/s]"
      ]
     },
     "metadata": {},
     "output_type": "display_data"
    },
    {
     "data": {
      "application/vnd.jupyter.widget-view+json": {
       "model_id": "9de1f6ea470c4aae83a8e74aa320b4f3",
       "version_major": 2,
       "version_minor": 0
      },
      "text/plain": [
       ".gitattributes:   0%|          | 0.00/2.46k [00:00<?, ?B/s]"
      ]
     },
     "metadata": {},
     "output_type": "display_data"
    },
    {
     "data": {
      "text/plain": [
       "'/root/.cache'"
      ]
     },
     "execution_count": 12,
     "metadata": {},
     "output_type": "execute_result"
    }
   ],
   "source": [
    "from huggingface_hub import HfApi\n",
    "from huggingface_hub import snapshot_download\n",
    "import os\n",
    "api = HfApi()\n",
    "!git lfs install --force\n",
    "\n",
    "# Define the dataset name and local directory\n",
    "repo_id = \"heboya8/facebook-musicgen-small\"\n",
    "save_path = \"/root/.cache\"\n",
    "\n",
    "# Create the directory if it doesn't exist\n",
    "os.makedirs(save_path, exist_ok=True)\n",
    "\n",
    "# Download the dataset\n",
    "snapshot_download(repo_id=repo_id, repo_type=\"dataset\", local_dir=save_path)"
   ]
  },
  {
   "cell_type": "code",
   "execution_count": 13,
   "metadata": {
    "execution": {
     "iopub.execute_input": "2025-06-13T10:27:05.839852Z",
     "iopub.status.busy": "2025-06-13T10:27:05.839396Z",
     "iopub.status.idle": "2025-06-13T10:29:35.610566Z",
     "shell.execute_reply": "2025-06-13T10:29:35.609539Z",
     "shell.execute_reply.started": "2025-06-13T10:27:05.839832Z"
    },
    "trusted": true
   },
   "outputs": [],
   "source": [
    "!unzip -q -o /root/.cache/data_compress.zip -d \".\""
   ]
  },
  {
   "cell_type": "code",
   "execution_count": null,
   "metadata": {
    "execution": {
     "iopub.execute_input": "2025-05-26T09:07:07.038746Z",
     "iopub.status.busy": "2025-05-26T09:07:07.037924Z",
     "iopub.status.idle": "2025-05-26T09:07:07.177142Z",
     "shell.execute_reply": "2025-05-26T09:07:07.176285Z",
     "shell.execute_reply.started": "2025-05-26T09:07:07.038694Z"
    },
    "trusted": true
   },
   "outputs": [],
   "source": [
    "!ls -a data ./ckpts/vin100h-preprocessed-v2"
   ]
  },
  {
   "cell_type": "code",
   "execution_count": null,
   "metadata": {
    "execution": {
     "iopub.execute_input": "2025-05-14T07:21:34.847225Z",
     "iopub.status.busy": "2025-05-14T07:21:34.846904Z",
     "iopub.status.idle": "2025-05-14T07:22:10.288453Z",
     "shell.execute_reply": "2025-05-14T07:22:10.287383Z",
     "shell.execute_reply.started": "2025-05-14T07:21:34.847193Z"
    },
    "trusted": true
   },
   "outputs": [],
   "source": [
    "os.makedirs(\"./ckpts/vin100h-preprocessed-v2\", exist_ok=True)\n",
    "!cp -r /kaggle/input/vi-fine-tuned-t5-tts/5/* ./ckpts/vin100h-preprocessed-v2/"
   ]
  },
  {
   "cell_type": "markdown",
   "metadata": {},
   "source": [
    "## Upload"
   ]
  },
  {
   "cell_type": "code",
   "execution_count": null,
   "metadata": {
    "execution": {
     "iopub.execute_input": "2025-05-10T20:06:26.721683Z",
     "iopub.status.busy": "2025-05-10T20:06:26.720825Z",
     "iopub.status.idle": "2025-05-10T20:11:36.850624Z",
     "shell.execute_reply": "2025-05-10T20:11:36.849599Z",
     "shell.execute_reply.started": "2025-05-10T20:06:26.721632Z"
    },
    "trusted": true
   },
   "outputs": [],
   "source": [
    "from huggingface_hub import HfApi\n",
    "from huggingface_hub import snapshot_download\n",
    "# Initialize API\n",
    "api = HfApi()\n",
    "\n",
    "# Upload the folder to the repository root\n",
    "api.upload_large_folder(\n",
    "    folder_path=\"/root/.cache/dataset\",  # Local folder path\n",
    "    repo_id=\"heboya8/f5-tts-dataset\",\n",
    "    repo_type=\"dataset\",\n",
    "    # multi_commits=True,  # Enable resumable uploads\n",
    "    # multi_commits_verbose=True  # Show progress\n",
    ")"
   ]
  },
  {
   "cell_type": "code",
   "execution_count": null,
   "metadata": {
    "execution": {
     "execution_failed": "2025-05-26T16:06:23.829Z",
     "iopub.execute_input": "2025-05-26T12:42:04.023378Z",
     "iopub.status.busy": "2025-05-26T12:42:04.023100Z"
    },
    "trusted": true
   },
   "outputs": [],
   "source": [
    "# Upload the folder to the repository root\n",
    "api.upload_large_folder(\n",
    "    folder_path=\"/kaggle/working/\",  # Local folder path\n",
    "    repo_id=\"heboya8/t5-tts-temp-model\",\n",
    "    repo_type=\"model\",\n",
    "    # multi_commits=True,  # Enable resumable uploads\n",
    "    # multi_commits_verbose=True  # Show progress\n",
    ")"
   ]
  },
  {
   "cell_type": "markdown",
   "metadata": {},
   "source": [
    "## /kaggle/working/F5-TTS/ckpts/vin100h-preprocessed-v2/model_last.ptDowload Dataset"
   ]
  },
  {
   "cell_type": "code",
   "execution_count": null,
   "metadata": {
    "execution": {
     "iopub.execute_input": "2025-05-10T20:16:38.191744Z",
     "iopub.status.busy": "2025-05-10T20:16:38.191338Z",
     "iopub.status.idle": "2025-05-10T20:16:56.134770Z",
     "shell.execute_reply": "2025-05-10T20:16:56.133810Z",
     "shell.execute_reply.started": "2025-05-10T20:16:38.191712Z"
    },
    "trusted": true
   },
   "outputs": [],
   "source": []
  },
  {
   "cell_type": "code",
   "execution_count": null,
   "metadata": {
    "execution": {
     "iopub.execute_input": "2025-05-10T20:19:28.100798Z",
     "iopub.status.busy": "2025-05-10T20:19:28.099915Z",
     "iopub.status.idle": "2025-05-10T20:19:28.249902Z",
     "shell.execute_reply": "2025-05-10T20:19:28.248723Z",
     "shell.execute_reply.started": "2025-05-10T20:19:28.100762Z"
    },
    "trusted": true
   },
   "outputs": [],
   "source": [
    "!mkdir dataset"
   ]
  },
  {
   "cell_type": "code",
   "execution_count": null,
   "metadata": {
    "execution": {
     "iopub.execute_input": "2025-05-10T20:20:05.322822Z",
     "iopub.status.busy": "2025-05-10T20:20:05.322019Z",
     "iopub.status.idle": "2025-05-10T20:20:05.567705Z",
     "shell.execute_reply": "2025-05-10T20:20:05.566624Z",
     "shell.execute_reply.started": "2025-05-10T20:20:05.322785Z"
    },
    "trusted": true
   },
   "outputs": [],
   "source": [
    "!rm -rf d /root/.cache/dataset"
   ]
  },
  {
   "cell_type": "code",
   "execution_count": null,
   "metadata": {
    "execution": {
     "iopub.execute_input": "2025-05-10T20:20:07.132689Z",
     "iopub.status.busy": "2025-05-10T20:20:07.132287Z",
     "iopub.status.idle": "2025-05-10T20:22:58.875583Z",
     "shell.execute_reply": "2025-05-10T20:22:58.874368Z",
     "shell.execute_reply.started": "2025-05-10T20:20:07.132656Z"
    },
    "trusted": true
   },
   "outputs": [],
   "source": [
    "!unzip -q /kaggle/working/F5-TTS/~/.cache/data_compress.zip -d /root/.cache/dataset"
   ]
  }
 ],
 "metadata": {
  "kaggle": {
   "accelerator": "gpu",
   "dataSources": [
    {
     "sourceId": 245236720,
     "sourceType": "kernelVersion"
    }
   ],
   "dockerImageVersionId": 31012,
   "isGpuEnabled": true,
   "isInternetEnabled": true,
   "language": "python",
   "sourceType": "notebook"
  },
  "kernelspec": {
   "display_name": "Python 3",
   "language": "python",
   "name": "python3"
  },
  "language_info": {
   "codemirror_mode": {
    "name": "ipython",
    "version": 3
   },
   "file_extension": ".py",
   "mimetype": "text/x-python",
   "name": "python",
   "nbconvert_exporter": "python",
   "pygments_lexer": "ipython3",
   "version": "3.11.11"
  }
 },
 "nbformat": 4,
 "nbformat_minor": 4
}
